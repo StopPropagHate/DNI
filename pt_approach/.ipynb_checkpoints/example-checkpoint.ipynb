{
 "cells": [
  {
   "cell_type": "code",
   "execution_count": 3,
   "metadata": {},
   "outputs": [
    {
     "name": "stdout",
     "output_type": "stream",
     "text": [
      "SentiLex num lines: 7012\n",
      "Number of arguments: 3 arguments.\n",
      "Argument List: ['classifier.py', 'evaluation', 'none']\n",
      "num instances:  5668 --- 5668\n",
      "creating train test split...\n",
      "Build pipeline..\n",
      "len X 4534\n",
      "creating model on:  pt_classifier_joblib.pkl\n",
      "fitting..\n",
      "dumping model at : pt_classifier_joblib.pkl\n",
      "starting evaluation..\n",
      "Train Accuracy= 0.7351124834583149\n",
      "Train classification report..\n",
      "             precision    recall  f1-score   support\n",
      "\n",
      "       Hate       0.79      0.91      0.84      3567\n",
      "    No hate       0.20      0.08      0.11       967\n",
      "\n",
      "avg / total       0.66      0.74      0.69      4534\n",
      "\n",
      "\n",
      "Train Confusion Matrix:\n",
      "[[3256  311]\n",
      " [ 890   77]]\n",
      "Test classification report..\n",
      "             precision    recall  f1-score   support\n",
      "\n",
      "       Hate       0.77      0.92      0.84       873\n",
      "    No hate       0.20      0.07      0.10       261\n",
      "\n",
      "avg / total       0.64      0.72      0.67      1134\n",
      "\n",
      "Test Accuracy= 0.7231040564373897\n",
      "\n",
      "Test Confusion Matrix:\n",
      "[[802  71]\n",
      " [243  18]]\n",
      "The End\n"
     ]
    }
   ],
   "source": [
    "%run -i classifier.py evaluation none"
   ]
  },
  {
   "cell_type": "code",
   "execution_count": 12,
   "metadata": {},
   "outputs": [],
   "source": []
  },
  {
   "cell_type": "code",
   "execution_count": null,
   "metadata": {},
   "outputs": [],
   "source": []
  }
 ],
 "metadata": {
  "celltoolbar": "Slideshow",
  "kernelspec": {
   "display_name": "Python 3",
   "language": "python",
   "name": "python3"
  },
  "language_info": {
   "codemirror_mode": {
    "name": "ipython",
    "version": 3
   },
   "file_extension": ".py",
   "mimetype": "text/x-python",
   "name": "python",
   "nbconvert_exporter": "python",
   "pygments_lexer": "ipython3",
   "version": "3.5.5"
  }
 },
 "nbformat": 4,
 "nbformat_minor": 1
}
